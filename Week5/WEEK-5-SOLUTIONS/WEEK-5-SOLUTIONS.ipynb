{
 "cells": [
  {
   "cell_type": "code",
   "execution_count": 1,
   "id": "ad319330",
   "metadata": {},
   "outputs": [],
   "source": [
    "import csv"
   ]
  },
  {
   "cell_type": "code",
   "execution_count": 2,
   "id": "d9f51fdd",
   "metadata": {},
   "outputs": [],
   "source": [
    "header=['sid','sname','city','contact']"
   ]
  },
  {
   "cell_type": "code",
   "execution_count": 3,
   "id": "1a391135",
   "metadata": {},
   "outputs": [],
   "source": [
    "records=[[1,'kailash','valod',9316203288],\n",
    "         [2,'sunil','asta',9463745678],\n",
    "         [3,'prem','vyara',9867456374],\n",
    "         [4,'dev','vyara',9567456784],\n",
    "         [5,'om','surat',9126364758]]\n",
    "k=[]"
   ]
  },
  {
   "cell_type": "code",
   "execution_count": 4,
   "id": "1262dbd6",
   "metadata": {},
   "outputs": [
    {
     "name": "stdout",
     "output_type": "stream",
     "text": [
      "Enter student id:6\n",
      "Enter student name:pratham\n",
      "Enter student city:mandvi\n",
      "Enter student contact number:9056748956\n",
      "Enter student id:7\n",
      "Enter student name:vivek\n",
      "Enter student city:mandvi\n",
      "Enter student contact number:7867856846\n",
      "Enter student id:8\n",
      "Enter student name:kenil\n",
      "Enter student city:mahuva\n",
      "Enter student contact number:8956467890\n",
      "Enter student id:9\n",
      "Enter student name:pritesh\n",
      "Enter student city:valod\n",
      "Enter student contact number:8967586789\n",
      "Enter student id:10\n",
      "Enter student name:ankit\n",
      "Enter student city:valod\n",
      "Enter student contact number:8967845678\n"
     ]
    }
   ],
   "source": [
    "for i in range(5):\n",
    "    sid=int(input(\"Enter student id:\"))\n",
    "    sname=(input(\"Enter student name:\"))\n",
    "    city=(input(\"Enter student city:\"))\n",
    "    contact=int(input(\"Enter student contact number:\"))\n",
    "    r=[sid,sname,city,contact]\n",
    "    k.append(r)\n",
    "    \n",
    "      "
   ]
  },
  {
   "cell_type": "code",
   "execution_count": 5,
   "id": "efd4f974",
   "metadata": {},
   "outputs": [],
   "source": [
    "with open('student.csv','w',newline='') as f:\n",
    "    myfile=csv.writer(f)\n",
    "    myfile.writerow(header)\n",
    "    myfile.writerows(records)\n",
    "    myfile.writerows(k)"
   ]
  },
  {
   "cell_type": "code",
   "execution_count": 6,
   "id": "51eb25c2",
   "metadata": {},
   "outputs": [
    {
     "name": "stdout",
     "output_type": "stream",
     "text": [
      "['sid', 'sname', 'city', 'contact']\n",
      "['1', 'kailash', 'valod', '9316203288']\n",
      "['2', 'sunil', 'asta', '9463745678']\n",
      "['3', 'prem', 'vyara', '9867456374']\n",
      "['4', 'dev', 'vyara', '9567456784']\n",
      "['5', 'om', 'surat', '9126364758']\n",
      "['6', 'pratham', 'mandvi', '9056748956']\n",
      "['7', 'vivek', 'mandvi', '7867856846']\n",
      "['8', 'kenil', 'mahuva', '8956467890']\n",
      "['9', 'pritesh', 'valod', '8967586789']\n",
      "['10', 'ankit', 'valod', '8967845678']\n"
     ]
    }
   ],
   "source": [
    "with open('student.csv','r') as r:\n",
    "    allrecord=csv.reader(r)\n",
    "    for s in allrecord:\n",
    "        print(s)"
   ]
  },
  {
   "cell_type": "code",
   "execution_count": null,
   "id": "895a78df",
   "metadata": {},
   "outputs": [],
   "source": []
  }
 ],
 "metadata": {
  "kernelspec": {
   "display_name": "Python 3 (ipykernel)",
   "language": "python",
   "name": "python3"
  },
  "language_info": {
   "codemirror_mode": {
    "name": "ipython",
    "version": 3
   },
   "file_extension": ".py",
   "mimetype": "text/x-python",
   "name": "python",
   "nbconvert_exporter": "python",
   "pygments_lexer": "ipython3",
   "version": "3.11.4"
  }
 },
 "nbformat": 4,
 "nbformat_minor": 5
}
